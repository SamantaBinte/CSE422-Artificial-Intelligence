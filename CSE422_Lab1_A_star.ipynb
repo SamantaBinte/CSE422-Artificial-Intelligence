{
  "nbformat": 4,
  "nbformat_minor": 0,
  "metadata": {
    "colab": {
      "provenance": []
    },
    "kernelspec": {
      "name": "python3",
      "display_name": "Python 3"
    },
    "language_info": {
      "name": "python"
    }
  },
  "cells": [
    {
      "cell_type": "code",
      "source": [
        "from queue import PriorityQueue\n",
        "\n",
        "graph = {}\n",
        "heur = {}\n",
        "\n",
        "with open('/content/Input file.txt') as f:\n",
        "    for line in f:\n",
        "        data = line.split()\n",
        "        node = data[0]\n",
        "        heur[node] = int(data[1])\n",
        "        neighbors = []\n",
        "        for i in range(2, len(data), 2):\n",
        "            neighbor = [data[i]]\n",
        "            distance = int(data[i+1])\n",
        "            neighbors.append(neighbor)\n",
        "            neighbor.append(distance)\n",
        "        graph[node] = neighbors\n",
        "print(graph)\n",
        "print(heur)\n",
        "\n",
        "\n",
        "q = PriorityQueue()\n",
        "visited=[]\n",
        "\n",
        "def Astar(graph, heuristic, source, end):\n",
        "  path=[]\n",
        "\n",
        "  visited.append(source)\n",
        "  q.put((heur[source], source))\n",
        "\n",
        "  while q.empty()==False:\n",
        "    tup= q.get()\n",
        "    node=tup[1]\n",
        "\n",
        "    path.append(node)\n",
        "\n",
        "    for neighbour in graph[node]:\n",
        "      #print(graph[node])\n",
        "      #print(neighbour)\n",
        "\n",
        "      if neighbour[0] not in visited:\n",
        "        visited.append(neighbour[0])\n",
        "        f_n= neighbour[1]+heur[neighbour[0]]\n",
        "        q.put((f_n, neighbour[0]))\n",
        "      if neighbour[0]==end:\n",
        "        path.append(neighbour[0])\n",
        "        return path\n",
        "\n",
        "shortestpath= Astar(graph, heur, \"Arad\", \"Bucharest\")\n",
        "\n",
        "#calculating minimum cost\n",
        "\n",
        "cost=0\n",
        "for i in range(len(shortestpath)-1):\n",
        "  list1=graph[shortestpath[i]]\n",
        "  for neighbor in list1:\n",
        "    if shortestpath[i+1] in neighbor:\n",
        "      cost+=neighbor[1]\n",
        "\n",
        "\n",
        "print(\"Path:\", shortestpath)\n",
        "print(f\"Total distance: {cost} km\")"
      ],
      "metadata": {
        "colab": {
          "base_uri": "https://localhost:8080/"
        },
        "id": "xz4MEmaHL-xa",
        "outputId": "78cf22c2-3546-4869-ec08-3a7a71c12913"
      },
      "execution_count": null,
      "outputs": [
        {
          "output_type": "stream",
          "name": "stdout",
          "text": [
            "{'Arad': [['Zerind', 75], ['Timisoara', 118], ['Sibiu', 140]], 'Craiova': [['Dobreta', 120], ['RimnicuVilcea', 146], ['Pitesti', 138]], 'Eforie': [['Hirsova', 86]], 'Fagaras': [['Sibiu', 99], ['Bucharest', 211]], 'Giurgiu': [['Bucharest', 90]], 'Mehadia': [['Lugoj', 70], ['Dobreta', 75]], 'Neamt': [['lasi', 87]], 'Sibiu': [['Oradea', 151], ['Arad', 140], ['RimnicuVilcea', 80], ['Fagaras', 99]], 'Oradea': [['Zerind', 71], ['Sibiu', 151]], 'Pitesti': [['RimnicuVilcea', 97], ['Craiova', 138], ['Bucharest', 101]], 'RimnicuVilcea': [['Sibiu', 80], ['Craiova', 146], ['Pitesti', 97]], 'Dobreta': [['Mehadia', 75], ['Craiova', 120]], 'Hirsova': [['Urziceni', 98], ['Eforie', 86]], 'lasi': [['Vaslui', 92], ['Neamt', 87]], 'Lugoj': [['Timisoara', 111], ['Mehadia', 70]], 'Timisoara': [['Arad', 118], ['Lugoj', 111]], 'Urziceni': [['Bucharest', 85], ['Hirsova', 98], ['Vaslui', 142]], 'Vaslui': [['Urziceni', 142], ['lasi', 92]], 'Zerind': [['Oradea', 71], ['Arad', 75]], 'Bucharest': [['Fagaras', 211], ['Pitesti', 101], ['Giurgiu', 90], ['Urziceni', 85]]}\n",
            "{'Arad': 366, 'Craiova': 160, 'Eforie': 161, 'Fagaras': 176, 'Giurgiu': 77, 'Mehadia': 241, 'Neamt': 234, 'Sibiu': 253, 'Oradea': 380, 'Pitesti': 100, 'RimnicuVilcea': 193, 'Dobreta': 242, 'Hirsova': 151, 'lasi': 226, 'Lugoj': 244, 'Timisoara': 329, 'Urziceni': 80, 'Vaslui': 199, 'Zerind': 374, 'Bucharest': 0}\n",
            "Path: ['Arad', 'Sibiu', 'RimnicuVilcea', 'Pitesti', 'Bucharest']\n",
            "Total distance: 418 km\n"
          ]
        }
      ]
    }
  ]
}