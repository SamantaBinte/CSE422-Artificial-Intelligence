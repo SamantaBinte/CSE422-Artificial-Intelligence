{
  "nbformat": 4,
  "nbformat_minor": 0,
  "metadata": {
    "colab": {
      "provenance": []
    },
    "kernelspec": {
      "name": "python3",
      "display_name": "Python 3"
    },
    "language_info": {
      "name": "python"
    }
  },
  "cells": [
    {
      "cell_type": "code",
      "execution_count": null,
      "metadata": {
        "id": "o1k-a2t6HBXW",
        "colab": {
          "base_uri": "https://localhost:8080/"
        },
        "outputId": "5c453591-a10b-43d8-e55c-040e58f24df9"
      },
      "outputs": [
        {
          "output_type": "stream",
          "name": "stdout",
          "text": [
            "Enter your id: 21201837\n",
            "Enter the range of negative HP: 1 30\n",
            "Depth and Branches ratio is 4:2\n",
            "Terminal States: [25, 29, 27, 26, 3, 23, 6, 17, 4, 20, 23, 26, 16, 2, 13, 28]\n",
            "Left life(HP) of the defender after maximum damage caused by the attacker is 60\n",
            "After Alpha-Beta Pruning Leaf Node Comparisons 15\n"
          ]
        }
      ],
      "source": [
        "import random\n",
        "import math\n",
        "\n",
        "infinity = math.inf\n",
        "A = -infinity\n",
        "B = infinity\n",
        "visited = 0\n",
        "\n",
        "\n",
        "def AlphaBeta(position, depth, alpha, beta, maximizingPlayer, leaf_nodes):\n",
        "   global visited\n",
        "   if depth == total_depth:\n",
        "       visited += 1\n",
        "       return leaf_nodes[position]\n",
        "\n",
        "   if maximizingPlayer:\n",
        "       max_val = -infinity\n",
        "       for i in range(0, branch):\n",
        "           val = AlphaBeta(position * branch + i, depth + 1, alpha, beta, False, leaf_nodes)\n",
        "           max_val = max(max_val, val)\n",
        "           alpha = max(alpha, max_val)\n",
        "           if beta <= alpha:\n",
        "               break\n",
        "       return max_val\n",
        "\n",
        "   else:\n",
        "       min_val = infinity\n",
        "       for i in range(0, branch):\n",
        "           val = AlphaBeta(position * branch + i, depth + 1, alpha, beta, True, leaf_nodes)\n",
        "           min_val = min(beta, val)\n",
        "           beta = min(beta, min_val)\n",
        "           if beta <= alpha:\n",
        "               break\n",
        "       return min_val\n",
        "\n",
        "#drivercode\n",
        "\n",
        "id=input(\"Enter your id: \")\n",
        "hp_range=input(\"Enter the range of negative HP: \")\n",
        "hp_range=hp_range.split(\" \")\n",
        "min_range=int(hp_range[0])\n",
        "max_range=int(hp_range[1])\n",
        "\n",
        "turns=int(id[0])\n",
        "total_depth= turns*2\n",
        "branch=int(id[2])\n",
        "initial_hp=int(id[:5:-1])\n",
        "\n",
        "\n",
        "total_leafnodes=(branch)**total_depth\n",
        "terminal_nodes=[]\n",
        "for i in range(total_leafnodes):\n",
        "  x=random.randint(min_range, max_range)\n",
        "  terminal_nodes.append(x)\n",
        "\n",
        "\n",
        "#terminal_nodes=[18,13,5,12,10,5,13,7,17,8,6,8,5,11,13,18] #question\n",
        "\n",
        "damaged = AlphaBeta(0, 0, A, B, True, terminal_nodes)\n",
        "left_hp=initial_hp - damaged\n",
        "\n",
        "print(f\"Depth and Branches ratio is {total_depth}:{branch}\")\n",
        "print(f\"Terminal States: {terminal_nodes}\")\n",
        "print(f\"Left life(HP) of the defender after maximum damage caused by the attacker is {left_hp}\")\n",
        "print(f\"After Alpha-Beta Pruning Leaf Node Comparisons {visited}\")\n"
      ]
    }
  ]
}